{
 "cells": [
  {
   "cell_type": "code",
   "execution_count": 2,
   "metadata": {},
   "outputs": [
    {
     "name": "stdout",
     "output_type": "stream",
     "text": [
      "Requirement already satisfied: numpy in c:\\users\\sreekar chidurala\\anaconda3\\lib\\site-packages (1.15.1)\n",
      "Requirement already satisfied: scipy in c:\\users\\sreekar chidurala\\anaconda3\\lib\\site-packages (1.1.0)\n",
      "Requirement already satisfied: matplotlib in c:\\users\\sreekar chidurala\\anaconda3\\lib\\site-packages (2.2.3)\n",
      "Requirement already satisfied: scikit-learn in c:\\users\\sreekar chidurala\\anaconda3\\lib\\site-packages (0.20.0)\n",
      "Requirement already satisfied: jupyter in c:\\users\\sreekar chidurala\\anaconda3\\lib\\site-packages (1.0.0)\n",
      "Requirement already satisfied: cycler>=0.10 in c:\\users\\sreekar chidurala\\anaconda3\\lib\\site-packages (from matplotlib) (0.10.0)\n",
      "Requirement already satisfied: pyparsing!=2.0.4,!=2.1.2,!=2.1.6,>=2.0.1 in c:\\users\\sreekar chidurala\\anaconda3\\lib\\site-packages (from matplotlib) (2.2.0)\n",
      "Requirement already satisfied: python-dateutil>=2.1 in c:\\users\\sreekar chidurala\\anaconda3\\lib\\site-packages (from matplotlib) (2.7.3)\n",
      "Requirement already satisfied: pytz in c:\\users\\sreekar chidurala\\anaconda3\\lib\\site-packages (from matplotlib) (2018.5)\n",
      "Requirement already satisfied: six>=1.10 in c:\\users\\sreekar chidurala\\anaconda3\\lib\\site-packages (from matplotlib) (1.11.0)\n",
      "Requirement already satisfied: kiwisolver>=1.0.1 in c:\\users\\sreekar chidurala\\anaconda3\\lib\\site-packages (from matplotlib) (1.0.1)\n",
      "Requirement already satisfied: ipykernel in c:\\users\\sreekar chidurala\\anaconda3\\lib\\site-packages (from jupyter) (4.10.0)\n",
      "Requirement already satisfied: nbconvert in c:\\users\\sreekar chidurala\\anaconda3\\lib\\site-packages (from jupyter) (5.4.0)\n",
      "Requirement already satisfied: notebook in c:\\users\\sreekar chidurala\\anaconda3\\lib\\site-packages (from jupyter) (5.6.0)\n",
      "Requirement already satisfied: jupyter-console in c:\\users\\sreekar chidurala\\anaconda3\\lib\\site-packages (from jupyter) (5.2.0)\n",
      "Requirement already satisfied: qtconsole in c:\\users\\sreekar chidurala\\anaconda3\\lib\\site-packages (from jupyter) (4.4.1)\n",
      "Requirement already satisfied: ipywidgets in c:\\users\\sreekar chidurala\\anaconda3\\lib\\site-packages (from jupyter) (7.4.1)\n",
      "Requirement already satisfied: setuptools in c:\\users\\sreekar chidurala\\anaconda3\\lib\\site-packages (from kiwisolver>=1.0.1->matplotlib) (40.2.0)\n",
      "Requirement already satisfied: ipython>=4.0.0 in c:\\users\\sreekar chidurala\\anaconda3\\lib\\site-packages (from ipykernel->jupyter) (6.5.0)\n",
      "Requirement already satisfied: traitlets>=4.1.0 in c:\\users\\sreekar chidurala\\anaconda3\\lib\\site-packages (from ipykernel->jupyter) (4.3.2)\n",
      "Requirement already satisfied: jupyter_client in c:\\users\\sreekar chidurala\\anaconda3\\lib\\site-packages (from ipykernel->jupyter) (5.2.3)\n",
      "Requirement already satisfied: tornado>=4.0 in c:\\users\\sreekar chidurala\\anaconda3\\lib\\site-packages (from ipykernel->jupyter) (5.1)\n",
      "Requirement already satisfied: mistune>=0.8.1 in c:\\users\\sreekar chidurala\\anaconda3\\lib\\site-packages (from nbconvert->jupyter) (0.8.3)\n",
      "Requirement already satisfied: jinja2 in c:\\users\\sreekar chidurala\\anaconda3\\lib\\site-packages (from nbconvert->jupyter) (2.10)\n",
      "Requirement already satisfied: pygments in c:\\users\\sreekar chidurala\\anaconda3\\lib\\site-packages (from nbconvert->jupyter) (2.2.0)\n",
      "Requirement already satisfied: jupyter_core in c:\\users\\sreekar chidurala\\anaconda3\\lib\\site-packages (from nbconvert->jupyter) (4.4.0)\n",
      "Requirement already satisfied: nbformat>=4.4 in c:\\users\\sreekar chidurala\\anaconda3\\lib\\site-packages (from nbconvert->jupyter) (4.4.0)\n",
      "Requirement already satisfied: entrypoints>=0.2.2 in c:\\users\\sreekar chidurala\\anaconda3\\lib\\site-packages (from nbconvert->jupyter) (0.2.3)\n",
      "Requirement already satisfied: bleach in c:\\users\\sreekar chidurala\\anaconda3\\lib\\site-packages (from nbconvert->jupyter) (2.1.4)\n",
      "Requirement already satisfied: pandocfilters>=1.4.1 in c:\\users\\sreekar chidurala\\anaconda3\\lib\\site-packages (from nbconvert->jupyter) (1.4.2)\n",
      "Requirement already satisfied: testpath in c:\\users\\sreekar chidurala\\anaconda3\\lib\\site-packages (from nbconvert->jupyter) (0.3.1)\n",
      "Requirement already satisfied: defusedxml in c:\\users\\sreekar chidurala\\anaconda3\\lib\\site-packages (from nbconvert->jupyter) (0.5.0)\n",
      "Requirement already satisfied: Send2Trash in c:\\users\\sreekar chidurala\\anaconda3\\lib\\site-packages (from notebook->jupyter) (1.5.0)\n",
      "Requirement already satisfied: terminado>=0.8.1 in c:\\users\\sreekar chidurala\\anaconda3\\lib\\site-packages (from notebook->jupyter) (0.8.1)\n",
      "Requirement already satisfied: prometheus-client in c:\\users\\sreekar chidurala\\anaconda3\\lib\\site-packages (from notebook->jupyter) (0.3.1)\n",
      "Requirement already satisfied: ipython-genutils in c:\\users\\sreekar chidurala\\anaconda3\\lib\\site-packages (from notebook->jupyter) (0.2.0)\n",
      "Requirement already satisfied: pyzmq>=17 in c:\\users\\sreekar chidurala\\anaconda3\\lib\\site-packages (from notebook->jupyter) (17.1.2)\n",
      "Requirement already satisfied: prompt-toolkit<2.0.0,>=1.0.0 in c:\\users\\sreekar chidurala\\anaconda3\\lib\\site-packages (from jupyter-console->jupyter) (1.0.15)\n",
      "Requirement already satisfied: widgetsnbextension~=3.4.0 in c:\\users\\sreekar chidurala\\anaconda3\\lib\\site-packages (from ipywidgets->jupyter) (3.4.1)\n",
      "Requirement already satisfied: pickleshare in c:\\users\\sreekar chidurala\\anaconda3\\lib\\site-packages (from ipython>=4.0.0->ipykernel->jupyter) (0.7.4)\n",
      "Requirement already satisfied: colorama; sys_platform == \"win32\" in c:\\users\\sreekar chidurala\\anaconda3\\lib\\site-packages (from ipython>=4.0.0->ipykernel->jupyter) (0.3.9)\n",
      "Requirement already satisfied: simplegeneric>0.8 in c:\\users\\sreekar chidurala\\anaconda3\\lib\\site-packages (from ipython>=4.0.0->ipykernel->jupyter) (0.8.1)\n",
      "Requirement already satisfied: backcall in c:\\users\\sreekar chidurala\\anaconda3\\lib\\site-packages (from ipython>=4.0.0->ipykernel->jupyter) (0.1.0)\n",
      "Requirement already satisfied: decorator in c:\\users\\sreekar chidurala\\anaconda3\\lib\\site-packages (from ipython>=4.0.0->ipykernel->jupyter) (4.3.0)\n",
      "Requirement already satisfied: jedi>=0.10 in c:\\users\\sreekar chidurala\\anaconda3\\lib\\site-packages (from ipython>=4.0.0->ipykernel->jupyter) (0.12.1)\n",
      "Requirement already satisfied: MarkupSafe>=0.23 in c:\\users\\sreekar chidurala\\anaconda3\\lib\\site-packages (from jinja2->nbconvert->jupyter) (1.0)\n",
      "Requirement already satisfied: jsonschema!=2.5.0,>=2.4 in c:\\users\\sreekar chidurala\\anaconda3\\lib\\site-packages (from nbformat>=4.4->nbconvert->jupyter) (2.6.0)\n",
      "Requirement already satisfied: html5lib!=1.0b1,!=1.0b2,!=1.0b3,!=1.0b4,!=1.0b5,!=1.0b6,!=1.0b7,!=1.0b8,>=0.99999999pre in c:\\users\\sreekar chidurala\\anaconda3\\lib\\site-packages (from bleach->nbconvert->jupyter) (1.0.1)\n",
      "Requirement already satisfied: wcwidth in c:\\users\\sreekar chidurala\\anaconda3\\lib\\site-packages (from prompt-toolkit<2.0.0,>=1.0.0->jupyter-console->jupyter) (0.1.7)\n",
      "Requirement already satisfied: parso>=0.3.0 in c:\\users\\sreekar chidurala\\anaconda3\\lib\\site-packages (from jedi>=0.10->ipython>=4.0.0->ipykernel->jupyter) (0.3.1)\n",
      "Requirement already satisfied: webencodings in c:\\users\\sreekar chidurala\\anaconda3\\lib\\site-packages (from html5lib!=1.0b1,!=1.0b2,!=1.0b3,!=1.0b4,!=1.0b5,!=1.0b6,!=1.0b7,!=1.0b8,>=0.99999999pre->bleach->nbconvert->jupyter) (0.5.1)\n"
     ]
    },
    {
     "name": "stderr",
     "output_type": "stream",
     "text": [
      "You are using pip version 10.0.1, however version 18.1 is available.\n",
      "You should consider upgrading via the 'python -m pip install --upgrade pip' command.\n"
     ]
    },
    {
     "name": "stdout",
     "output_type": "stream",
     "text": [
      "Requirement already satisfied: opencv-contrib-python in c:\\users\\sreekar chidurala\\anaconda3\\lib\\site-packages (3.4.3.18)\n",
      "Requirement already satisfied: numpy>=1.14.5 in c:\\users\\sreekar chidurala\\anaconda3\\lib\\site-packages (from opencv-contrib-python) (1.15.1)\n"
     ]
    },
    {
     "name": "stderr",
     "output_type": "stream",
     "text": [
      "You are using pip version 10.0.1, however version 18.1 is available.\n",
      "You should consider upgrading via the 'python -m pip install --upgrade pip' command.\n"
     ]
    }
   ],
   "source": [
    "!pip install numpy scipy matplotlib scikit-learn jupyter\n",
    "!pip install opencv-contrib-python\n"
   ]
  },
  {
   "cell_type": "code",
   "execution_count": 1,
   "metadata": {},
   "outputs": [],
   "source": [
    "import cv2"
   ]
  },
  {
   "cell_type": "code",
   "execution_count": 4,
   "metadata": {},
   "outputs": [
    {
     "name": "stderr",
     "output_type": "stream",
     "text": [
      "Invalid requirement: '<!doctype html>'\n",
      "Traceback (most recent call last):\n",
      "  File \"C:\\Users\\sreekar chidurala\\Anaconda3\\lib\\site-packages\\pip\\_vendor\\packaging\\requirements.py\", line 93, in __init__\n",
      "    req = REQUIREMENT.parseString(requirement_string)\n",
      "  File \"C:\\Users\\sreekar chidurala\\Anaconda3\\lib\\site-packages\\pip\\_vendor\\pyparsing.py\", line 1632, in parseString\n",
      "    raise exc\n",
      "  File \"C:\\Users\\sreekar chidurala\\Anaconda3\\lib\\site-packages\\pip\\_vendor\\pyparsing.py\", line 1622, in parseString\n",
      "    loc, tokens = self._parse( instring, 0 )\n",
      "  File \"C:\\Users\\sreekar chidurala\\Anaconda3\\lib\\site-packages\\pip\\_vendor\\pyparsing.py\", line 1379, in _parseNoCache\n",
      "    loc,tokens = self.parseImpl( instring, preloc, doActions )\n",
      "  File \"C:\\Users\\sreekar chidurala\\Anaconda3\\lib\\site-packages\\pip\\_vendor\\pyparsing.py\", line 3395, in parseImpl\n",
      "    loc, exprtokens = e._parse( instring, loc, doActions )\n",
      "  File \"C:\\Users\\sreekar chidurala\\Anaconda3\\lib\\site-packages\\pip\\_vendor\\pyparsing.py\", line 1379, in _parseNoCache\n",
      "    loc,tokens = self.parseImpl( instring, preloc, doActions )\n",
      "  File \"C:\\Users\\sreekar chidurala\\Anaconda3\\lib\\site-packages\\pip\\_vendor\\pyparsing.py\", line 3717, in parseImpl\n",
      "    return self.expr._parse( instring, loc, doActions, callPreParse=False )\n",
      "  File \"C:\\Users\\sreekar chidurala\\Anaconda3\\lib\\site-packages\\pip\\_vendor\\pyparsing.py\", line 1379, in _parseNoCache\n",
      "    loc,tokens = self.parseImpl( instring, preloc, doActions )\n",
      "  File \"C:\\Users\\sreekar chidurala\\Anaconda3\\lib\\site-packages\\pip\\_vendor\\pyparsing.py\", line 3378, in parseImpl\n",
      "    loc, resultlist = self.exprs[0]._parse( instring, loc, doActions, callPreParse=False )\n",
      "  File \"C:\\Users\\sreekar chidurala\\Anaconda3\\lib\\site-packages\\pip\\_vendor\\pyparsing.py\", line 1383, in _parseNoCache\n",
      "    loc,tokens = self.parseImpl( instring, preloc, doActions )\n",
      "  File \"C:\\Users\\sreekar chidurala\\Anaconda3\\lib\\site-packages\\pip\\_vendor\\pyparsing.py\", line 2689, in parseImpl\n",
      "    raise ParseException(instring, loc, self.errmsg, self)\n",
      "pip._vendor.pyparsing.ParseException: Expected W:(abcd...) (at char 0), (line:1, col:1)\n",
      "\n",
      "During handling of the above exception, another exception occurred:\n",
      "\n",
      "Traceback (most recent call last):\n",
      "  File \"C:\\Users\\sreekar chidurala\\Anaconda3\\lib\\site-packages\\pip\\_internal\\req\\req_install.py\", line 252, in from_line\n",
      "    req = Requirement(req)\n",
      "  File \"C:\\Users\\sreekar chidurala\\Anaconda3\\lib\\site-packages\\pip\\_vendor\\packaging\\requirements.py\", line 97, in __init__\n",
      "    requirement_string[e.loc:e.loc + 8]))\n",
      "pip._vendor.packaging.requirements.InvalidRequirement: Invalid requirement, parse error at \"'<!doctyp'\"\n",
      "\n",
      "You are using pip version 10.0.1, however version 18.1 is available.\n",
      "You should consider upgrading via the 'python -m pip install --upgrade pip' command.\n"
     ]
    }
   ],
   "source": [
    "!pip install -c https://conda.binstar.org/krisvanneste pygame"
   ]
  },
  {
   "cell_type": "code",
   "execution_count": 5,
   "metadata": {},
   "outputs": [
    {
     "name": "stdout",
     "output_type": "stream",
     "text": [
      "Requirement already satisfied: imutils in c:\\users\\sreekar chidurala\\anaconda3\\lib\\site-packages (0.5.1)\n"
     ]
    },
    {
     "name": "stderr",
     "output_type": "stream",
     "text": [
      "You are using pip version 10.0.1, however version 18.1 is available.\n",
      "You should consider upgrading via the 'python -m pip install --upgrade pip' command.\n"
     ]
    }
   ],
   "source": [
    "!pip install imutils"
   ]
  },
  {
   "cell_type": "code",
   "execution_count": 2,
   "metadata": {},
   "outputs": [],
   "source": [
    "# import the necessary packages\n",
    "from imutils.video import VideoStream\n",
    "from imutils import face_utils\n"
   ]
  },
  {
   "cell_type": "code",
   "execution_count": 7,
   "metadata": {},
   "outputs": [
    {
     "name": "stdout",
     "output_type": "stream",
     "text": [
      "Requirement already satisfied: pygame in c:\\users\\sreekar chidurala\\anaconda3\\lib\\site-packages (1.9.4)\n"
     ]
    },
    {
     "name": "stderr",
     "output_type": "stream",
     "text": [
      "You are using pip version 10.0.1, however version 18.1 is available.\n",
      "You should consider upgrading via the 'python -m pip install --upgrade pip' command.\n"
     ]
    }
   ],
   "source": [
    "!pip install pygame"
   ]
  },
  {
   "cell_type": "code",
   "execution_count": 2,
   "metadata": {},
   "outputs": [
    {
     "name": "stdout",
     "output_type": "stream",
     "text": [
      "Requirement already satisfied: PyHamcrest in c:\\users\\sreekar chidurala\\anaconda3\\lib\\site-packages (1.9.0)\n",
      "Requirement already satisfied: setuptools in c:\\users\\sreekar chidurala\\anaconda3\\lib\\site-packages (from PyHamcrest) (40.2.0)\n",
      "Requirement already satisfied: six in c:\\users\\sreekar chidurala\\anaconda3\\lib\\site-packages (from PyHamcrest) (1.11.0)\n"
     ]
    },
    {
     "name": "stderr",
     "output_type": "stream",
     "text": [
      "You are using pip version 10.0.1, however version 18.1 is available.\n",
      "You should consider upgrading via the 'python -m pip install --upgrade pip' command.\n"
     ]
    }
   ],
   "source": [
    "!pip install PyHamcrest"
   ]
  },
  {
   "cell_type": "code",
   "execution_count": 10,
   "metadata": {},
   "outputs": [
    {
     "name": "stdout",
     "output_type": "stream",
     "text": [
      "Requirement already satisfied: CMake in c:\\users\\sreekar chidurala\\anaconda3\\lib\\site-packages (3.12.0)\n"
     ]
    },
    {
     "name": "stderr",
     "output_type": "stream",
     "text": [
      "You are using pip version 10.0.1, however version 18.1 is available.\n",
      "You should consider upgrading via the 'python -m pip install --upgrade pip' command.\n"
     ]
    }
   ],
   "source": [
    "!pip install CMake"
   ]
  },
  {
   "cell_type": "code",
   "execution_count": 3,
   "metadata": {},
   "outputs": [
    {
     "name": "stdout",
     "output_type": "stream",
     "text": [
      "pygame 1.9.4\n",
      "Hello from the pygame community. https://www.pygame.org/contribute.html\n"
     ]
    },
    {
     "data": {
      "text/plain": [
       "(6, 0)"
      ]
     },
     "execution_count": 3,
     "metadata": {},
     "output_type": "execute_result"
    }
   ],
   "source": [
    "import pygame\n",
    "pygame.init()"
   ]
  },
  {
   "cell_type": "code",
   "execution_count": 15,
   "metadata": {},
   "outputs": [
    {
     "name": "stdout",
     "output_type": "stream",
     "text": [
      "Collecting face_recognition\n",
      "  Downloading https://files.pythonhosted.org/packages/3f/ed/ad9a28042f373d4633fc8b49109b623597d6f193d3bbbef7780a5ee8eef2/face_recognition-1.2.3-py2.py3-none-any.whl\n",
      "Collecting face-recognition-models>=0.3.0 (from face_recognition)\n",
      "  Downloading https://files.pythonhosted.org/packages/cf/3b/4fd8c534f6c0d1b80ce0973d01331525538045084c73c153ee6df20224cf/face_recognition_models-0.3.0.tar.gz (100.1MB)\n",
      "Collecting dlib>=19.7 (from face_recognition)\n",
      "  Using cached https://files.pythonhosted.org/packages/35/8d/e4ddf60452e2fb1ce3164f774e68968b3f110f1cb4cd353235d56875799e/dlib-19.16.0.tar.gz\n",
      "Requirement already satisfied: Click>=6.0 in c:\\users\\sreekar chidurala\\anaconda3\\lib\\site-packages (from face_recognition) (6.7)\n",
      "Requirement already satisfied: Pillow in c:\\users\\sreekar chidurala\\anaconda3\\lib\\site-packages (from face_recognition) (5.2.0)\n",
      "Requirement already satisfied: numpy in c:\\users\\sreekar chidurala\\anaconda3\\lib\\site-packages (from face_recognition) (1.15.1)\n",
      "Building wheels for collected packages: face-recognition-models, dlib\n",
      "  Running setup.py bdist_wheel for face-recognition-models: started\n",
      "  Running setup.py bdist_wheel for face-recognition-models: finished with status 'done'\n",
      "  Stored in directory: C:\\Users\\sreekar chidurala\\AppData\\Local\\pip\\Cache\\wheels\\d2\\99\\18\\59c6c8f01e39810415c0e63f5bede7d83dfb0ffc039865465f\n",
      "  Running setup.py bdist_wheel for dlib: started\n",
      "  Running setup.py bdist_wheel for dlib: finished with status 'error'\n",
      "  Complete output from command \"C:\\Users\\sreekar chidurala\\Anaconda3\\python.exe\" -u -c \"import setuptools, tokenize;__file__='C:\\\\Users\\\\SREEKA~1\\\\AppData\\\\Local\\\\Temp\\\\pip-install-d6zsuv9m\\\\dlib\\\\setup.py';f=getattr(tokenize, 'open', open)(__file__);code=f.read().replace('\\r\\n', '\\n');f.close();exec(compile(code, __file__, 'exec'))\" bdist_wheel -d C:\\Users\\SREEKA~1\\AppData\\Local\\Temp\\pip-wheel-pb63r0gl --python-tag cp37:\n",
      "  running bdist_wheel\n",
      "  running build\n",
      "  running build_py\n",
      "  package init file 'dlib\\__init__.py' not found (or not a regular file)\n",
      "  running build_ext\n",
      "  Building extension for Python 3.7.0 (default, Jun 28 2018, 08:04:48) [MSC v.1912 64 bit (AMD64)]\n",
      "  Invoking CMake setup: 'cmake C:\\Users\\SREEKA~1\\AppData\\Local\\Temp\\pip-install-d6zsuv9m\\dlib\\tools\\python -DCMAKE_LIBRARY_OUTPUT_DIRECTORY=C:\\Users\\SREEKA~1\\AppData\\Local\\Temp\\pip-install-d6zsuv9m\\dlib\\build\\lib.win-amd64-3.7 -DPYTHON_EXECUTABLE=C:\\Users\\sreekar chidurala\\Anaconda3\\python.exe -DCMAKE_LIBRARY_OUTPUT_DIRECTORY_RELEASE=C:\\Users\\SREEKA~1\\AppData\\Local\\Temp\\pip-install-d6zsuv9m\\dlib\\build\\lib.win-amd64-3.7 -A x64'\n",
      "  -- Building for: NMake Makefiles\n",
      "  CMake Error in CMakeLists.txt:\n",
      "    Generator\n",
      "  \n",
      "      NMake Makefiles\n",
      "  \n",
      "    does not support platform specification, but platform\n",
      "  \n",
      "      x64\n",
      "  \n",
      "    was specified.\n",
      "  \n",
      "  \n",
      "  CMake Error: CMAKE_C_COMPILER not set, after EnableLanguage\n",
      "  CMake Error: CMAKE_CXX_COMPILER not set, after EnableLanguage\n",
      "  -- Configuring incomplete, errors occurred!\n",
      "  See also \"C:/Users/sreekar chidurala/AppData/Local/Temp/pip-install-d6zsuv9m/dlib/build/temp.win-amd64-3.7/Release/CMakeFiles/CMakeOutput.log\".\n",
      "  Traceback (most recent call last):\n",
      "    File \"<string>\", line 1, in <module>\n",
      "    File \"C:\\Users\\SREEKA~1\\AppData\\Local\\Temp\\pip-install-d6zsuv9m\\dlib\\setup.py\", line 257, in <module>\n",
      "      'Topic :: Software Development',\n",
      "    File \"C:\\Users\\sreekar chidurala\\Anaconda3\\lib\\site-packages\\setuptools\\__init__.py\", line 140, in setup\n",
      "      return distutils.core.setup(**attrs)\n",
      "    File \"C:\\Users\\sreekar chidurala\\Anaconda3\\lib\\distutils\\core.py\", line 148, in setup\n",
      "      dist.run_commands()\n",
      "    File \"C:\\Users\\sreekar chidurala\\Anaconda3\\lib\\distutils\\dist.py\", line 966, in run_commands\n",
      "      self.run_command(cmd)\n",
      "    File \"C:\\Users\\sreekar chidurala\\Anaconda3\\lib\\distutils\\dist.py\", line 985, in run_command\n",
      "      cmd_obj.run()\n",
      "    File \"C:\\Users\\sreekar chidurala\\Anaconda3\\lib\\site-packages\\wheel\\bdist_wheel.py\", line 202, in run\n",
      "      self.run_command('build')\n",
      "    File \"C:\\Users\\sreekar chidurala\\Anaconda3\\lib\\distutils\\cmd.py\", line 313, in run_command\n",
      "      self.distribution.run_command(command)\n",
      "    File \"C:\\Users\\sreekar chidurala\\Anaconda3\\lib\\distutils\\dist.py\", line 985, in run_command\n",
      "      cmd_obj.run()\n",
      "    File \"C:\\Users\\sreekar chidurala\\Anaconda3\\lib\\distutils\\command\\build.py\", line 135, in run\n",
      "      self.run_command(cmd_name)\n",
      "    File \"C:\\Users\\sreekar chidurala\\Anaconda3\\lib\\distutils\\cmd.py\", line 313, in run_command\n",
      "      self.distribution.run_command(command)\n",
      "    File \"C:\\Users\\sreekar chidurala\\Anaconda3\\lib\\distutils\\dist.py\", line 985, in run_command\n",
      "      cmd_obj.run()\n",
      "    File \"C:\\Users\\SREEKA~1\\AppData\\Local\\Temp\\pip-install-d6zsuv9m\\dlib\\setup.py\", line 133, in run\n",
      "      self.build_extension(ext)\n",
      "    File \"C:\\Users\\SREEKA~1\\AppData\\Local\\Temp\\pip-install-d6zsuv9m\\dlib\\setup.py\", line 170, in build_extension\n",
      "      subprocess.check_call(cmake_setup, cwd=build_folder)\n",
      "    File \"C:\\Users\\sreekar chidurala\\Anaconda3\\lib\\subprocess.py\", line 328, in check_call\n",
      "      raise CalledProcessError(retcode, cmd)\n",
      "  subprocess.CalledProcessError: Command '['cmake', 'C:\\\\Users\\\\SREEKA~1\\\\AppData\\\\Local\\\\Temp\\\\pip-install-d6zsuv9m\\\\dlib\\\\tools\\\\python', '-DCMAKE_LIBRARY_OUTPUT_DIRECTORY=C:\\\\Users\\\\SREEKA~1\\\\AppData\\\\Local\\\\Temp\\\\pip-install-d6zsuv9m\\\\dlib\\\\build\\\\lib.win-amd64-3.7', '-DPYTHON_EXECUTABLE=C:\\\\Users\\\\sreekar chidurala\\\\Anaconda3\\\\python.exe', '-DCMAKE_LIBRARY_OUTPUT_DIRECTORY_RELEASE=C:\\\\Users\\\\SREEKA~1\\\\AppData\\\\Local\\\\Temp\\\\pip-install-d6zsuv9m\\\\dlib\\\\build\\\\lib.win-amd64-3.7', '-A', 'x64']' returned non-zero exit status 1.\n",
      "  \n",
      "  ----------------------------------------\n",
      "  Running setup.py clean for dlib\n",
      "Successfully built face-recognition-models\n",
      "Failed to build dlib\n",
      "Installing collected packages: face-recognition-models, dlib, face-recognition\n",
      "  Running setup.py install for dlib: started\n",
      "    Running setup.py install for dlib: finished with status 'error'\n",
      "    Complete output from command \"C:\\Users\\sreekar chidurala\\Anaconda3\\python.exe\" -u -c \"import setuptools, tokenize;__file__='C:\\\\Users\\\\SREEKA~1\\\\AppData\\\\Local\\\\Temp\\\\pip-install-d6zsuv9m\\\\dlib\\\\setup.py';f=getattr(tokenize, 'open', open)(__file__);code=f.read().replace('\\r\\n', '\\n');f.close();exec(compile(code, __file__, 'exec'))\" install --record C:\\Users\\SREEKA~1\\AppData\\Local\\Temp\\pip-record-j3g_beh2\\install-record.txt --single-version-externally-managed --compile:\n",
      "    running install\n",
      "    running build\n",
      "    running build_py\n",
      "    package init file 'dlib\\__init__.py' not found (or not a regular file)\n",
      "    running build_ext\n",
      "    Building extension for Python 3.7.0 (default, Jun 28 2018, 08:04:48) [MSC v.1912 64 bit (AMD64)]\n",
      "    Invoking CMake setup: 'cmake C:\\Users\\SREEKA~1\\AppData\\Local\\Temp\\pip-install-d6zsuv9m\\dlib\\tools\\python -DCMAKE_LIBRARY_OUTPUT_DIRECTORY=C:\\Users\\SREEKA~1\\AppData\\Local\\Temp\\pip-install-d6zsuv9m\\dlib\\build\\lib.win-amd64-3.7 -DPYTHON_EXECUTABLE=C:\\Users\\sreekar chidurala\\Anaconda3\\python.exe -DCMAKE_LIBRARY_OUTPUT_DIRECTORY_RELEASE=C:\\Users\\SREEKA~1\\AppData\\Local\\Temp\\pip-install-d6zsuv9m\\dlib\\build\\lib.win-amd64-3.7 -A x64'\n",
      "    -- Building for: NMake Makefiles\n",
      "    CMake Error in CMakeLists.txt:\n",
      "      Generator\n",
      "    \n",
      "        NMake Makefiles\n",
      "    \n",
      "      does not support platform specification, but platform\n",
      "    \n",
      "        x64\n",
      "    \n",
      "      was specified.\n",
      "    \n",
      "    \n",
      "    CMake Error: CMAKE_C_COMPILER not set, after EnableLanguage\n",
      "    CMake Error: CMAKE_CXX_COMPILER not set, after EnableLanguage\n",
      "    -- Configuring incomplete, errors occurred!\n",
      "    See also \"C:/Users/sreekar chidurala/AppData/Local/Temp/pip-install-d6zsuv9m/dlib/build/temp.win-amd64-3.7/Release/CMakeFiles/CMakeOutput.log\".\n",
      "    Traceback (most recent call last):\n",
      "      File \"<string>\", line 1, in <module>\n",
      "      File \"C:\\Users\\SREEKA~1\\AppData\\Local\\Temp\\pip-install-d6zsuv9m\\dlib\\setup.py\", line 257, in <module>\n",
      "        'Topic :: Software Development',\n",
      "      File \"C:\\Users\\sreekar chidurala\\Anaconda3\\lib\\site-packages\\setuptools\\__init__.py\", line 140, in setup\n",
      "        return distutils.core.setup(**attrs)\n",
      "      File \"C:\\Users\\sreekar chidurala\\Anaconda3\\lib\\distutils\\core.py\", line 148, in setup\n",
      "        dist.run_commands()\n",
      "      File \"C:\\Users\\sreekar chidurala\\Anaconda3\\lib\\distutils\\dist.py\", line 966, in run_commands\n",
      "        self.run_command(cmd)\n",
      "      File \"C:\\Users\\sreekar chidurala\\Anaconda3\\lib\\distutils\\dist.py\", line 985, in run_command\n",
      "        cmd_obj.run()\n",
      "      File \"C:\\Users\\sreekar chidurala\\Anaconda3\\lib\\site-packages\\setuptools\\command\\install.py\", line 61, in run\n",
      "        return orig.install.run(self)\n",
      "      File \"C:\\Users\\sreekar chidurala\\Anaconda3\\lib\\distutils\\command\\install.py\", line 545, in run\n",
      "        self.run_command('build')\n",
      "      File \"C:\\Users\\sreekar chidurala\\Anaconda3\\lib\\distutils\\cmd.py\", line 313, in run_command\n",
      "        self.distribution.run_command(command)\n",
      "      File \"C:\\Users\\sreekar chidurala\\Anaconda3\\lib\\distutils\\dist.py\", line 985, in run_command\n",
      "        cmd_obj.run()\n",
      "      File \"C:\\Users\\sreekar chidurala\\Anaconda3\\lib\\distutils\\command\\build.py\", line 135, in run\n",
      "        self.run_command(cmd_name)\n",
      "      File \"C:\\Users\\sreekar chidurala\\Anaconda3\\lib\\distutils\\cmd.py\", line 313, in run_command\n",
      "        self.distribution.run_command(command)\n",
      "      File \"C:\\Users\\sreekar chidurala\\Anaconda3\\lib\\distutils\\dist.py\", line 985, in run_command\n",
      "        cmd_obj.run()\n",
      "      File \"C:\\Users\\SREEKA~1\\AppData\\Local\\Temp\\pip-install-d6zsuv9m\\dlib\\setup.py\", line 133, in run\n",
      "        self.build_extension(ext)\n",
      "      File \"C:\\Users\\SREEKA~1\\AppData\\Local\\Temp\\pip-install-d6zsuv9m\\dlib\\setup.py\", line 170, in build_extension\n",
      "        subprocess.check_call(cmake_setup, cwd=build_folder)\n",
      "      File \"C:\\Users\\sreekar chidurala\\Anaconda3\\lib\\subprocess.py\", line 328, in check_call\n",
      "        raise CalledProcessError(retcode, cmd)\n",
      "    subprocess.CalledProcessError: Command '['cmake', 'C:\\\\Users\\\\SREEKA~1\\\\AppData\\\\Local\\\\Temp\\\\pip-install-d6zsuv9m\\\\dlib\\\\tools\\\\python', '-DCMAKE_LIBRARY_OUTPUT_DIRECTORY=C:\\\\Users\\\\SREEKA~1\\\\AppData\\\\Local\\\\Temp\\\\pip-install-d6zsuv9m\\\\dlib\\\\build\\\\lib.win-amd64-3.7', '-DPYTHON_EXECUTABLE=C:\\\\Users\\\\sreekar chidurala\\\\Anaconda3\\\\python.exe', '-DCMAKE_LIBRARY_OUTPUT_DIRECTORY_RELEASE=C:\\\\Users\\\\SREEKA~1\\\\AppData\\\\Local\\\\Temp\\\\pip-install-d6zsuv9m\\\\dlib\\\\build\\\\lib.win-amd64-3.7', '-A', 'x64']' returned non-zero exit status 1.\n",
      "    \n",
      "    ----------------------------------------\n"
     ]
    },
    {
     "name": "stderr",
     "output_type": "stream",
     "text": [
      "  Failed building wheel for dlib\n",
      "Command \"\"C:\\Users\\sreekar chidurala\\Anaconda3\\python.exe\" -u -c \"import setuptools, tokenize;__file__='C:\\\\Users\\\\SREEKA~1\\\\AppData\\\\Local\\\\Temp\\\\pip-install-d6zsuv9m\\\\dlib\\\\setup.py';f=getattr(tokenize, 'open', open)(__file__);code=f.read().replace('\\r\\n', '\\n');f.close();exec(compile(code, __file__, 'exec'))\" install --record C:\\Users\\SREEKA~1\\AppData\\Local\\Temp\\pip-record-j3g_beh2\\install-record.txt --single-version-externally-managed --compile\" failed with error code 1 in C:\\Users\\SREEKA~1\\AppData\\Local\\Temp\\pip-install-d6zsuv9m\\dlib\\\n",
      "You are using pip version 10.0.1, however version 18.1 is available.\n",
      "You should consider upgrading via the 'python -m pip install --upgrade pip' command.\n"
     ]
    }
   ],
   "source": [
    "!pip install face_recognition"
   ]
  },
  {
   "cell_type": "code",
   "execution_count": 16,
   "metadata": {},
   "outputs": [
    {
     "name": "stderr",
     "output_type": "stream",
     "text": [
      "Retrying (Retry(total=4, connect=None, read=None, redirect=None, status=None)) after connection broken by 'ReadTimeoutError(\"HTTPSConnectionPool(host='excellmedia.dl.sourceforge.net', port=443): Read timed out. (read timeout=15)\")': /project/numpy/NumPy/1.10.0/numpy-1.10.0-win32-superpack-python2.7.exe\n",
      "Exception:\n",
      "Traceback (most recent call last):\n",
      "  File \"C:\\Users\\sreekar chidurala\\Anaconda3\\lib\\site-packages\\pip\\_internal\\basecommand.py\", line 228, in main\n",
      "    status = self.run(options, args)\n",
      "  File \"C:\\Users\\sreekar chidurala\\Anaconda3\\lib\\site-packages\\pip\\_internal\\commands\\install.py\", line 267, in run\n",
      "    self.name, wheel_cache\n",
      "  File \"C:\\Users\\sreekar chidurala\\Anaconda3\\lib\\site-packages\\pip\\_internal\\basecommand.py\", line 289, in populate_requirement_set\n",
      "    session=session, wheel_cache=wheel_cache):\n",
      "  File \"C:\\Users\\sreekar chidurala\\Anaconda3\\lib\\site-packages\\pip\\_internal\\req\\req_file.py\", line 89, in parse_requirements\n",
      "    for req in req_iter:\n",
      "  File \"C:\\Users\\sreekar chidurala\\Anaconda3\\lib\\site-packages\\pip\\_internal\\req\\req_file.py\", line 156, in process_line\n",
      "    isolated=isolated, options=req_options, wheel_cache=wheel_cache\n",
      "  File \"C:\\Users\\sreekar chidurala\\Anaconda3\\lib\\site-packages\\pip\\_internal\\req\\req_install.py\", line 198, in from_line\n",
      "    path = os.path.normpath(os.path.abspath(name))\n",
      "  File \"C:\\Users\\sreekar chidurala\\Anaconda3\\lib\\ntpath.py\", line 523, in abspath\n",
      "    path = _getfullpathname(path)\n",
      "ValueError: _getfullpathname: embedded null character in path\n",
      "You are using pip version 10.0.1, however version 18.1 is available.\n",
      "You should consider upgrading via the 'python -m pip install --upgrade pip' command.\n"
     ]
    }
   ],
   "source": [
    "!pip install -c https://sourceforge.net/projects/numpy/files/NumPy/1.10.0/numpy-1.10.0-win32-superpack-python2.7.exe/download "
   ]
  },
  {
   "cell_type": "code",
   "execution_count": 20,
   "metadata": {},
   "outputs": [
    {
     "name": "stdout",
     "output_type": "stream",
     "text": [
      "Collecting tensorflow\n"
     ]
    },
    {
     "name": "stderr",
     "output_type": "stream",
     "text": [
      "  Could not find a version that satisfies the requirement tensorflow (from versions: )\n",
      "No matching distribution found for tensorflow\n"
     ]
    }
   ],
   "source": [
    "!pip install tensorflow"
   ]
  },
  {
   "cell_type": "code",
   "execution_count": 19,
   "metadata": {},
   "outputs": [
    {
     "name": "stdout",
     "output_type": "stream",
     "text": [
      "Collecting dlib==19.4\n",
      "  Using cached https://files.pythonhosted.org/packages/1d/76/0f91fde37a83a40cf27e6cabd900b975c2667c522a07ae38e31cda2fa486/dlib-19.4.0.tar.gz\n",
      "Building wheels for collected packages: dlib\n",
      "  Running setup.py bdist_wheel for dlib: started\n",
      "  Running setup.py bdist_wheel for dlib: finished with status 'error'\n",
      "  Complete output from command \"c:\\users\\sreekar chidurala\\anaconda3\\python.exe\" -u -c \"import setuptools, tokenize;__file__='C:\\\\Users\\\\SREEKA~1\\\\AppData\\\\Local\\\\Temp\\\\pip-install-_x7t0dwq\\\\dlib\\\\setup.py';f=getattr(tokenize, 'open', open)(__file__);code=f.read().replace('\\r\\n', '\\n');f.close();exec(compile(code, __file__, 'exec'))\" bdist_wheel -d C:\\Users\\SREEKA~1\\AppData\\Local\\Temp\\pip-wheel-t5vjmpco --python-tag cp37:\n",
      "  running bdist_wheel\n",
      "  running build\n",
      "  Detected Python architecture: 64bit\n",
      "  Detected platform: win32\n",
      "  Configuring cmake ...\n",
      "  -- Building for: Visual Studio 15 2017\n",
      "  -- The C compiler identification is MSVC 19.15.26732.1\n",
      "  -- The CXX compiler identification is MSVC 19.15.26732.1\n",
      "  -- Check for working C compiler: C:/Program Files (x86)/Microsoft Visual Studio/2017/Community/VC/Tools/MSVC/14.15.26726/bin/Hostx86/x86/cl.exe\n",
      "  -- Check for working C compiler: C:/Program Files (x86)/Microsoft Visual Studio/2017/Community/VC/Tools/MSVC/14.15.26726/bin/Hostx86/x86/cl.exe -- works\n",
      "  -- Detecting C compiler ABI info\n",
      "  -- Detecting C compiler ABI info - done\n",
      "  -- Detecting C compile features\n",
      "  -- Detecting C compile features - done\n",
      "  -- Check for working CXX compiler: C:/Program Files (x86)/Microsoft Visual Studio/2017/Community/VC/Tools/MSVC/14.15.26726/bin/Hostx86/x86/cl.exe\n",
      "  -- Check for working CXX compiler: C:/Program Files (x86)/Microsoft Visual Studio/2017/Community/VC/Tools/MSVC/14.15.26726/bin/Hostx86/x86/cl.exe -- works\n",
      "  -- Detecting CXX compiler ABI info\n",
      "  -- Detecting CXX compiler ABI info - done\n",
      "  -- Detecting CXX compile features\n",
      "  -- Detecting CXX compile features - done\n",
      "  CMake Warning at C:/Users/sreekar chidurala/Anaconda3/Lib/site-packages/cmake/data/share/cmake-3.12/Modules/FindBoost.cmake:577 (message):\n",
      "    Imported targets and dependency information not available for Boost version\n",
      "    (all versions older than 1.33)\n",
      "  Call Stack (most recent call first):\n",
      "    C:/Users/sreekar chidurala/Anaconda3/Lib/site-packages/cmake/data/share/cmake-3.12/Modules/FindBoost.cmake:959 (_Boost_COMPONENT_DEPENDENCIES)\n",
      "    C:/Users/sreekar chidurala/Anaconda3/Lib/site-packages/cmake/data/share/cmake-3.12/Modules/FindBoost.cmake:1618 (_Boost_MISSING_DEPENDENCIES)\n",
      "    C:/Users/sreekar chidurala/AppData/Local/Temp/pip-install-_x7t0dwq/dlib/dlib/cmake_utils/add_python_module:61 (FIND_PACKAGE)\n",
      "    CMakeLists.txt:6 (include)\n",
      "  CMake Warning at C:/Users/sreekar chidurala/Anaconda3/Lib/site-packages/cmake/data/share/cmake-3.12/Modules/FindBoost.cmake:1723 (message):\n",
      "    No header defined for python-py34; skipping header check\n",
      "  Call Stack (most recent call first):\n",
      "    C:/Users/sreekar chidurala/AppData/Local/Temp/pip-install-_x7t0dwq/dlib/dlib/cmake_utils/add_python_module:61 (FIND_PACKAGE)\n",
      "    CMakeLists.txt:6 (include)\n",
      "  -- Could NOT find Boost\n",
      "  CMake Warning at C:/Users/sreekar chidurala/Anaconda3/Lib/site-packages/cmake/data/share/cmake-3.12/Modules/FindBoost.cmake:577 (message):\n",
      "    Imported targets and dependency information not available for Boost version\n",
      "    (all versions older than 1.33)\n",
      "  Call Stack (most recent call first):\n",
      "    C:/Users/sreekar chidurala/Anaconda3/Lib/site-packages/cmake/data/share/cmake-3.12/Modules/FindBoost.cmake:959 (_Boost_COMPONENT_DEPENDENCIES)\n",
      "    C:/Users/sreekar chidurala/Anaconda3/Lib/site-packages/cmake/data/share/cmake-3.12/Modules/FindBoost.cmake:1618 (_Boost_MISSING_DEPENDENCIES)\n",
      "    C:/Users/sreekar chidurala/AppData/Local/Temp/pip-install-_x7t0dwq/dlib/dlib/cmake_utils/add_python_module:63 (FIND_PACKAGE)\n",
      "    CMakeLists.txt:6 (include)\n",
      "  CMake Warning at C:/Users/sreekar chidurala/Anaconda3/Lib/site-packages/cmake/data/share/cmake-3.12/Modules/FindBoost.cmake:1723 (message):\n",
      "    No header defined for python-py35; skipping header check\n",
      "  Call Stack (most recent call first):\n",
      "    C:/Users/sreekar chidurala/AppData/Local/Temp/pip-install-_x7t0dwq/dlib/dlib/cmake_utils/add_python_module:63 (FIND_PACKAGE)\n",
      "    CMakeLists.txt:6 (include)\n",
      "  -- Could NOT find Boost\n",
      "  CMake Warning at C:/Users/sreekar chidurala/Anaconda3/Lib/site-packages/cmake/data/share/cmake-3.12/Modules/FindBoost.cmake:577 (message):\n",
      "    Imported targets and dependency information not available for Boost version\n",
      "    (all versions older than 1.33)\n",
      "  Call Stack (most recent call first):\n",
      "    C:/Users/sreekar chidurala/Anaconda3/Lib/site-packages/cmake/data/share/cmake-3.12/Modules/FindBoost.cmake:959 (_Boost_COMPONENT_DEPENDENCIES)\n",
      "    C:/Users/sreekar chidurala/Anaconda3/Lib/site-packages/cmake/data/share/cmake-3.12/Modules/FindBoost.cmake:1618 (_Boost_MISSING_DEPENDENCIES)\n",
      "    C:/Users/sreekar chidurala/AppData/Local/Temp/pip-install-_x7t0dwq/dlib/dlib/cmake_utils/add_python_module:66 (FIND_PACKAGE)\n",
      "    CMakeLists.txt:6 (include)\n",
      "  -- Could NOT find Boost\n",
      "  CMake Warning at C:/Users/sreekar chidurala/Anaconda3/Lib/site-packages/cmake/data/share/cmake-3.12/Modules/FindBoost.cmake:577 (message):\n",
      "    Imported targets and dependency information not available for Boost version\n",
      "    (all versions older than 1.33)\n",
      "  Call Stack (most recent call first):\n",
      "    C:/Users/sreekar chidurala/Anaconda3/Lib/site-packages/cmake/data/share/cmake-3.12/Modules/FindBoost.cmake:959 (_Boost_COMPONENT_DEPENDENCIES)\n",
      "    C:/Users/sreekar chidurala/Anaconda3/Lib/site-packages/cmake/data/share/cmake-3.12/Modules/FindBoost.cmake:1618 (_Boost_MISSING_DEPENDENCIES)\n",
      "    C:/Users/sreekar chidurala/AppData/Local/Temp/pip-install-_x7t0dwq/dlib/dlib/cmake_utils/add_python_module:69 (FIND_PACKAGE)\n",
      "    CMakeLists.txt:6 (include)\n",
      "  -- Could NOT find Boost\n",
      "  -- Found PythonLibs: C:/Users/sreekar chidurala/Anaconda3/libs/python37.lib (found suitable version \"3.7.0\", minimum required is \"3.4\")\n",
      "  --  *****************************************************************************************************\n",
      "  -- We couldn't find the right version of boost python.  If you installed boost and you are still getting this error then you might have installed a version of boost that was compiled with a different version of visual studio than the one you are using.  So you have to make sure that the version of visual studio is the same version that was used to compile the copy of boost you are using.\n",
      "  --  Set the BOOST_ROOT and BOOST_LIBRARYDIR environment variables before running cmake.\n",
      "  --  E.g.  Something like this:\n",
      "  --     set BOOST_ROOT=C:\\local\\boost_1_57_0\n",
      "  --     set BOOST_LIBRARYDIR=C:\\local\\boost_1_57_0\\stage\\lib\n",
      "  --\n",
      "  --  You will also likely need to compile boost yourself rather than using one of the precompiled\n",
      "  --  windows binaries.  Do this by going to the folder tools\\build\\ within boost and running\n",
      "  --  bootstrap.bat.  Then run the command:\n",
      "  --     b2 install\n",
      "  --  And then add the output bin folder to your PATH.  Usually this is the C:\\boost-build-engine\\bin\n",
      "  --  folder. Finally, go to the boost root and run a command like this:\n",
      "  --     b2 -a --with-python address-model=64 toolset=msvc runtime-link=static\n",
      "  --  When it completes, set BOOST_LIBRARYDIR equal to wherever b2 put the compiled libraries.\n",
      "  --  Note that you will need to set the address-model based on if you want a 32 or 64bit python library.\n",
      "  --\n",
      "  --  Next, when you invoke cmake to compile dlib you may have to use cmake's -G option to set the\n",
      "  --  64 vs. 32bit mode of visual studio.  Also, if you want a Python3 library you will need to\n",
      "  --  add -DPYTHON3=1.  You do this with a statement like:\n",
      "  --     cmake -G \"Visual Studio 12 2013 Win64\" -DPYTHON3=1 ..\\..\\tools\\python\n",
      "  --  Rather than:\n",
      "  --     cmake ..\\..\\tools\\python\n",
      "  --  Which will build a 32bit Python2 module by default on most systems.\n",
      "  --\n",
      "  --  *****************************************************************************************************\n",
      "  CMake Error at C:/Users/sreekar chidurala/AppData/Local/Temp/pip-install-_x7t0dwq/dlib/dlib/cmake_utils/add_python_module:116 (message):\n",
      "     Boost python library not found.\n",
      "  Call Stack (most recent call first):\n",
      "    CMakeLists.txt:6 (include)\n",
      "  -- Configuring incomplete, errors occurred!\n",
      "  See also \"C:/Users/sreekar chidurala/AppData/Local/Temp/pip-install-_x7t0dwq/dlib/tools/python/build/CMakeFiles/CMakeOutput.log\".\n",
      "  error: cmake configuration failed!\n",
      "  \n",
      "  ----------------------------------------\n",
      "  Running setup.py clean for dlib\n",
      "Failed to build dlib\n",
      "Installing collected packages: dlib\n",
      "  Found existing installation: dlib 19.16.0\n",
      "    Uninstalling dlib-19.16.0:\n",
      "      Successfully uninstalled dlib-19.16.0\n",
      "  Running setup.py install for dlib: started\n",
      "    Running setup.py install for dlib: finished with status 'error'\n",
      "    Complete output from command \"c:\\users\\sreekar chidurala\\anaconda3\\python.exe\" -u -c \"import setuptools, tokenize;__file__='C:\\\\Users\\\\SREEKA~1\\\\AppData\\\\Local\\\\Temp\\\\pip-install-_x7t0dwq\\\\dlib\\\\setup.py';f=getattr(tokenize, 'open', open)(__file__);code=f.read().replace('\\r\\n', '\\n');f.close();exec(compile(code, __file__, 'exec'))\" install --record C:\\Users\\SREEKA~1\\AppData\\Local\\Temp\\pip-record-phtfyasb\\install-record.txt --single-version-externally-managed --compile:\n",
      "    running install\n",
      "    running build\n",
      "    Detected Python architecture: 64bit\n",
      "    Detected platform: win32\n",
      "    Removing build directory C:\\Users\\SREEKA~1\\AppData\\Local\\Temp\\pip-install-_x7t0dwq\\dlib\\./tools/python/build\n",
      "    Configuring cmake ...\n",
      "    -- Building for: Visual Studio 15 2017\n",
      "    -- The C compiler identification is MSVC 19.15.26732.1\n",
      "    -- The CXX compiler identification is MSVC 19.15.26732.1\n",
      "    -- Check for working C compiler: C:/Program Files (x86)/Microsoft Visual Studio/2017/Community/VC/Tools/MSVC/14.15.26726/bin/Hostx86/x86/cl.exe\n",
      "    -- Check for working C compiler: C:/Program Files (x86)/Microsoft Visual Studio/2017/Community/VC/Tools/MSVC/14.15.26726/bin/Hostx86/x86/cl.exe -- works\n",
      "    -- Detecting C compiler ABI info\n",
      "    -- Detecting C compiler ABI info - done\n",
      "    -- Detecting C compile features\n",
      "    -- Detecting C compile features - done\n",
      "    -- Check for working CXX compiler: C:/Program Files (x86)/Microsoft Visual Studio/2017/Community/VC/Tools/MSVC/14.15.26726/bin/Hostx86/x86/cl.exe\n",
      "    -- Check for working CXX compiler: C:/Program Files (x86)/Microsoft Visual Studio/2017/Community/VC/Tools/MSVC/14.15.26726/bin/Hostx86/x86/cl.exe -- works\n",
      "    -- Detecting CXX compiler ABI info\n",
      "    -- Detecting CXX compiler ABI info - done\n",
      "    -- Detecting CXX compile features\n",
      "    -- Detecting CXX compile features - done\n",
      "    CMake Warning at C:/Users/sreekar chidurala/Anaconda3/Lib/site-packages/cmake/data/share/cmake-3.12/Modules/FindBoost.cmake:577 (message):\n",
      "      Imported targets and dependency information not available for Boost version\n",
      "      (all versions older than 1.33)\n",
      "    Call Stack (most recent call first):\n",
      "      C:/Users/sreekar chidurala/Anaconda3/Lib/site-packages/cmake/data/share/cmake-3.12/Modules/FindBoost.cmake:959 (_Boost_COMPONENT_DEPENDENCIES)\n",
      "      C:/Users/sreekar chidurala/Anaconda3/Lib/site-packages/cmake/data/share/cmake-3.12/Modules/FindBoost.cmake:1618 (_Boost_MISSING_DEPENDENCIES)\n",
      "      C:/Users/sreekar chidurala/AppData/Local/Temp/pip-install-_x7t0dwq/dlib/dlib/cmake_utils/add_python_module:61 (FIND_PACKAGE)\n",
      "      CMakeLists.txt:6 (include)\n",
      "    CMake Warning at C:/Users/sreekar chidurala/Anaconda3/Lib/site-packages/cmake/data/share/cmake-3.12/Modules/FindBoost.cmake:1723 (message):\n",
      "      No header defined for python-py34; skipping header check\n",
      "    Call Stack (most recent call first):\n",
      "      C:/Users/sreekar chidurala/AppData/Local/Temp/pip-install-_x7t0dwq/dlib/dlib/cmake_utils/add_python_module:61 (FIND_PACKAGE)\n",
      "      CMakeLists.txt:6 (include)\n",
      "    -- Could NOT find Boost\n",
      "    CMake Warning at C:/Users/sreekar chidurala/Anaconda3/Lib/site-packages/cmake/data/share/cmake-3.12/Modules/FindBoost.cmake:577 (message):\n",
      "      Imported targets and dependency information not available for Boost version\n",
      "      (all versions older than 1.33)\n",
      "    Call Stack (most recent call first):\n",
      "      C:/Users/sreekar chidurala/Anaconda3/Lib/site-packages/cmake/data/share/cmake-3.12/Modules/FindBoost.cmake:959 (_Boost_COMPONENT_DEPENDENCIES)\n",
      "      C:/Users/sreekar chidurala/Anaconda3/Lib/site-packages/cmake/data/share/cmake-3.12/Modules/FindBoost.cmake:1618 (_Boost_MISSING_DEPENDENCIES)\n",
      "      C:/Users/sreekar chidurala/AppData/Local/Temp/pip-install-_x7t0dwq/dlib/dlib/cmake_utils/add_python_module:63 (FIND_PACKAGE)\n",
      "      CMakeLists.txt:6 (include)\n",
      "    CMake Warning at C:/Users/sreekar chidurala/Anaconda3/Lib/site-packages/cmake/data/share/cmake-3.12/Modules/FindBoost.cmake:1723 (message):\n",
      "      No header defined for python-py35; skipping header check\n",
      "    Call Stack (most recent call first):\n",
      "      C:/Users/sreekar chidurala/AppData/Local/Temp/pip-install-_x7t0dwq/dlib/dlib/cmake_utils/add_python_module:63 (FIND_PACKAGE)\n",
      "      CMakeLists.txt:6 (include)\n",
      "    -- Could NOT find Boost\n",
      "    CMake Warning at C:/Users/sreekar chidurala/Anaconda3/Lib/site-packages/cmake/data/share/cmake-3.12/Modules/FindBoost.cmake:577 (message):\n",
      "      Imported targets and dependency information not available for Boost version\n",
      "      (all versions older than 1.33)\n",
      "    Call Stack (most recent call first):\n",
      "      C:/Users/sreekar chidurala/Anaconda3/Lib/site-packages/cmake/data/share/cmake-3.12/Modules/FindBoost.cmake:959 (_Boost_COMPONENT_DEPENDENCIES)\n",
      "      C:/Users/sreekar chidurala/Anaconda3/Lib/site-packages/cmake/data/share/cmake-3.12/Modules/FindBoost.cmake:1618 (_Boost_MISSING_DEPENDENCIES)\n",
      "      C:/Users/sreekar chidurala/AppData/Local/Temp/pip-install-_x7t0dwq/dlib/dlib/cmake_utils/add_python_module:66 (FIND_PACKAGE)\n",
      "      CMakeLists.txt:6 (include)\n",
      "    -- Could NOT find Boost\n",
      "    CMake Warning at C:/Users/sreekar chidurala/Anaconda3/Lib/site-packages/cmake/data/share/cmake-3.12/Modules/FindBoost.cmake:577 (message):\n",
      "      Imported targets and dependency information not available for Boost version\n",
      "      (all versions older than 1.33)\n",
      "    Call Stack (most recent call first):\n",
      "      C:/Users/sreekar chidurala/Anaconda3/Lib/site-packages/cmake/data/share/cmake-3.12/Modules/FindBoost.cmake:959 (_Boost_COMPONENT_DEPENDENCIES)\n",
      "      C:/Users/sreekar chidurala/Anaconda3/Lib/site-packages/cmake/data/share/cmake-3.12/Modules/FindBoost.cmake:1618 (_Boost_MISSING_DEPENDENCIES)\n",
      "      C:/Users/sreekar chidurala/AppData/Local/Temp/pip-install-_x7t0dwq/dlib/dlib/cmake_utils/add_python_module:69 (FIND_PACKAGE)\n",
      "      CMakeLists.txt:6 (include)\n",
      "    -- Could NOT find Boost\n",
      "    -- Found PythonLibs: C:/Users/sreekar chidurala/Anaconda3/libs/python37.lib (found suitable version \"3.7.0\", minimum required is \"3.4\")\n",
      "    --  *****************************************************************************************************\n",
      "    -- We couldn't find the right version of boost python.  If you installed boost and you are still getting this error then you might have installed a version of boost that was compiled with a different version of visual studio than the one you are using.  So you have to make sure that the version of visual studio is the same version that was used to compile the copy of boost you are using.\n",
      "    --  Set the BOOST_ROOT and BOOST_LIBRARYDIR environment variables before running cmake.\n",
      "    --  E.g.  Something like this:\n",
      "    --     set BOOST_ROOT=C:\\local\\boost_1_57_0\n",
      "    --     set BOOST_LIBRARYDIR=C:\\local\\boost_1_57_0\\stage\\lib\n",
      "    --\n",
      "    --  You will also likely need to compile boost yourself rather than using one of the precompiled\n",
      "    --  windows binaries.  Do this by going to the folder tools\\build\\ within boost and running\n",
      "    --  bootstrap.bat.  Then run the command:\n",
      "    --     b2 install\n",
      "    --  And then add the output bin folder to your PATH.  Usually this is the C:\\boost-build-engine\\bin\n",
      "    --  folder. Finally, go to the boost root and run a command like this:\n",
      "    --     b2 -a --with-python address-model=64 toolset=msvc runtime-link=static\n",
      "    --  When it completes, set BOOST_LIBRARYDIR equal to wherever b2 put the compiled libraries.\n",
      "    --  Note that you will need to set the address-model based on if you want a 32 or 64bit python library.\n",
      "    --\n",
      "    --  Next, when you invoke cmake to compile dlib you may have to use cmake's -G option to set the\n",
      "    --  64 vs. 32bit mode of visual studio.  Also, if you want a Python3 library you will need to\n",
      "    --  add -DPYTHON3=1.  You do this with a statement like:\n",
      "    --     cmake -G \"Visual Studio 12 2013 Win64\" -DPYTHON3=1 ..\\..\\tools\\python\n",
      "    --  Rather than:\n",
      "    --     cmake ..\\..\\tools\\python\n",
      "    --  Which will build a 32bit Python2 module by default on most systems.\n",
      "    --\n",
      "    --  *****************************************************************************************************\n",
      "    CMake Error at C:/Users/sreekar chidurala/AppData/Local/Temp/pip-install-_x7t0dwq/dlib/dlib/cmake_utils/add_python_module:116 (message):\n",
      "       Boost python library not found.\n",
      "    Call Stack (most recent call first):\n",
      "      CMakeLists.txt:6 (include)\n",
      "    -- Configuring incomplete, errors occurred!\n",
      "    See also \"C:/Users/sreekar chidurala/AppData/Local/Temp/pip-install-_x7t0dwq/dlib/tools/python/build/CMakeFiles/CMakeOutput.log\".\n",
      "    error: cmake configuration failed!\n",
      "    \n",
      "    ----------------------------------------\n",
      "  Rolling back uninstall of dlib\n"
     ]
    },
    {
     "name": "stderr",
     "output_type": "stream",
     "text": [
      "  Failed building wheel for dlib\n",
      "Command \"\"c:\\users\\sreekar chidurala\\anaconda3\\python.exe\" -u -c \"import setuptools, tokenize;__file__='C:\\\\Users\\\\SREEKA~1\\\\AppData\\\\Local\\\\Temp\\\\pip-install-_x7t0dwq\\\\dlib\\\\setup.py';f=getattr(tokenize, 'open', open)(__file__);code=f.read().replace('\\r\\n', '\\n');f.close();exec(compile(code, __file__, 'exec'))\" install --record C:\\Users\\SREEKA~1\\AppData\\Local\\Temp\\pip-record-phtfyasb\\install-record.txt --single-version-externally-managed --compile\" failed with error code 1 in C:\\Users\\SREEKA~1\\AppData\\Local\\Temp\\pip-install-_x7t0dwq\\dlib\\\n"
     ]
    }
   ],
   "source": [
    "!pip install dlib==19.4\n"
   ]
  },
  {
   "cell_type": "code",
   "execution_count": 24,
   "metadata": {},
   "outputs": [
    {
     "name": "stdout",
     "output_type": "stream",
     "text": [
      "Collecting pyautogui\n",
      "  Downloading https://files.pythonhosted.org/packages/69/81/a8f44c4b613717c25e0cdabf405e942fc7c7bcedf3198c58c79fdbababc0/PyAutoGUI-0.9.38.tar.gz (47kB)\n",
      "Collecting pymsgbox (from pyautogui)\n",
      "  Downloading https://files.pythonhosted.org/packages/b6/65/86379ede1db26c40e7972d7a41c69cdf12cc6a0f143749aabf67ab8a41a1/PyMsgBox-1.0.6.zip\n",
      "Collecting PyTweening>=1.0.1 (from pyautogui)\n",
      "  Downloading https://files.pythonhosted.org/packages/b9/f8/c32a58d6e4dff8aa5c27e907194d69f3b57e525c2e4af96f39c6e9c854d2/PyTweening-1.0.3.zip\n",
      "Requirement already satisfied: Pillow in c:\\users\\sreekar chidurala\\anaconda3\\lib\\site-packages (from pyautogui) (5.2.0)\n",
      "Collecting pyscreeze (from pyautogui)\n",
      "  Downloading https://files.pythonhosted.org/packages/1c/80/ba95b654c92264675a8e67646d0f80066e0285c2a3ccd466126035c3fbbf/PyScreeze-0.1.18.tar.gz\n",
      "Building wheels for collected packages: pyautogui, pymsgbox, PyTweening, pyscreeze\n",
      "  Running setup.py bdist_wheel for pyautogui: started\n",
      "  Running setup.py bdist_wheel for pyautogui: finished with status 'done'\n",
      "  Stored in directory: C:\\Users\\sreekar chidurala\\AppData\\Local\\pip\\Cache\\wheels\\33\\9d\\3d\\88afd520024d2213a6ec7d9c8e9d5108b0259156f1fb86c071\n",
      "  Running setup.py bdist_wheel for pymsgbox: started\n",
      "  Running setup.py bdist_wheel for pymsgbox: finished with status 'done'\n",
      "  Stored in directory: C:\\Users\\sreekar chidurala\\AppData\\Local\\pip\\Cache\\wheels\\61\\52\\a7\\48714fe44cc4606c6e08280d6d655dd6d790cec126928e4ffc\n",
      "  Running setup.py bdist_wheel for PyTweening: started\n",
      "  Running setup.py bdist_wheel for PyTweening: finished with status 'done'\n",
      "  Stored in directory: C:\\Users\\sreekar chidurala\\AppData\\Local\\pip\\Cache\\wheels\\7b\\92\\30\\06e21159eed2709436bfb6d7c690959e578cf74f029643866e\n",
      "  Running setup.py bdist_wheel for pyscreeze: started\n",
      "  Running setup.py bdist_wheel for pyscreeze: finished with status 'done'\n",
      "  Stored in directory: C:\\Users\\sreekar chidurala\\AppData\\Local\\pip\\Cache\\wheels\\2f\\67\\f6\\49fd821223bf3a6f6aa75d439c7a6743b523bb09042702bc3f\n",
      "Successfully built pyautogui pymsgbox PyTweening pyscreeze\n",
      "Installing collected packages: pymsgbox, PyTweening, pyscreeze, pyautogui\n",
      "Successfully installed PyTweening-1.0.3 pyautogui-0.9.38 pymsgbox-1.0.6 pyscreeze-0.1.18\n"
     ]
    }
   ],
   "source": [
    "!pip install pyautogui"
   ]
  },
  {
   "cell_type": "code",
   "execution_count": null,
   "metadata": {},
   "outputs": [],
   "source": [
    "#Import required modules\n",
    "import cv2\n",
    "import dlib\n",
    "#Set up some required objects\n",
    "video_capture = cv2.VideoCapture(0) #Webcam object\n",
    "detector = dlib.get_frontal_face_detector() #Face detector\n",
    "predictor = dlib.shape_predictor(\"shape_predictor_68_face_landmarks.dat\") #Landmark identifier. Set the filename to whatever you named the downloaded file\n",
    "while True:\n",
    "    ret, frame = video_capture.read()\n",
    "    gray = cv2.cvtColor(frame, cv2.COLOR_BGR2GRAY)\n",
    "    clahe = cv2.createCLAHE(clipLimit=2.0, tileGridSize=(8,8))\n",
    "    clahe_image = clahe.apply(gray)\n",
    "    detections = detector(clahe_image, 1) #Detect the faces in the image\n",
    "    for k,d in enumerate(detections): #For each detected face\n",
    "        shape = predictor(clahe_image, d) #Get coordinates\n",
    "        for i in range(1,68): #There are 68 landmark points on each face\n",
    "            cv2.circle(frame, (shape.part(i).x, shape.part(i).y), 1, (0,0,255), thickness=2) #For each point, draw a red circle with thickness2 on the original frame\n",
    "    cv2.imshow(\"image\", frame) #Display the frame\n",
    "    if cv2.waitKey(1) & 0xFF == ord('q'): #Exit program when the user presses 'q'\n",
    "        break"
   ]
  },
  {
   "cell_type": "code",
   "execution_count": 4,
   "metadata": {},
   "outputs": [],
   "source": [
    "import cv2\n",
    "import dlib\n",
    "detector = dlib.get_frontal_face_detector()\n",
    "predictor = dlib.shape_predictor(\"shape_predictor_68_face_landmarks.dat\")\n",
    "def get_landmarks(image):\n",
    "    detections = detector(image, 1)\n",
    "    for k,d in enumerate(detections): #For all detected face instances individually\n",
    "        shape = predictor(image, d) #Draw Facial Landmarks with the predictor class\n",
    "        xlist = []\n",
    "        ylist = []\n",
    "        for i in range(1,68): #Store X and Y coordinates in two lists\n",
    "            xlist.append(float(shape.part(i).x))\n",
    "            ylist.append(float(shape.part(i).y))\n",
    "        for x, y in zip(xlist, ylist): #Store all landmarks in one list in the format x1,y1,x2,y2,etc.\n",
    "            landmarks.append(x)\n",
    "            landmarks.append(y)\n",
    "    if len(detections) > 0:\n",
    "        return landmarks\n",
    "    else: #If no faces are detected, return error message to other function to handle\n",
    "        landmarks = \"error\"\n",
    "        return landmarks"
   ]
  },
  {
   "cell_type": "code",
   "execution_count": null,
   "metadata": {},
   "outputs": [],
   "source": []
  },
  {
   "cell_type": "code",
   "execution_count": null,
   "metadata": {},
   "outputs": [],
   "source": []
  },
  {
   "cell_type": "code",
   "execution_count": null,
   "metadata": {},
   "outputs": [],
   "source": []
  },
  {
   "cell_type": "code",
   "execution_count": null,
   "metadata": {},
   "outputs": [],
   "source": []
  },
  {
   "cell_type": "code",
   "execution_count": null,
   "metadata": {},
   "outputs": [],
   "source": []
  }
 ],
 "metadata": {
  "kernelspec": {
   "display_name": "Python 3",
   "language": "python",
   "name": "python3"
  },
  "language_info": {
   "codemirror_mode": {
    "name": "ipython",
    "version": 3
   },
   "file_extension": ".py",
   "mimetype": "text/x-python",
   "name": "python",
   "nbconvert_exporter": "python",
   "pygments_lexer": "ipython3",
   "version": "3.7.0"
  }
 },
 "nbformat": 4,
 "nbformat_minor": 2
}
